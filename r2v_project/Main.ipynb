{
 "cells": [
  {
   "cell_type": "code",
   "execution_count": 6,
   "metadata": {},
   "outputs": [],
   "source": [
    "#import functions from other files\n",
    "import nbimporter\n",
    "import ReadBedFiles\n",
    "import Region2vec\n",
    "import json"
   ]
  },
  {
   "cell_type": "code",
   "execution_count": 7,
   "metadata": {},
   "outputs": [],
   "source": [
    "# Data path\n",
    "#path_bed_files = \"./bedfiles/*\"\n",
    "path_bed_files = \"/project/shefflab/data/ChIP-Atlas/antibodydataset/train/*\"\n",
    "\n",
    "# Universe path\n",
    "universeFile_path = \"./representations/antibody_universe.txt\""
   ]
  },
  {
   "cell_type": "code",
   "execution_count": 13,
   "metadata": {},
   "outputs": [],
   "source": [
    "# Parameters \n",
    "numberofCores = 4\n",
    "numberofFiles = 100\n",
    "window = 150 #8\n",
    "size = 10 #10, 50, 100, 200, 300\n",
    "min_count = 100 \n",
    "shuffle_repeat = 100 #100\n"
   ]
  },
  {
   "cell_type": "markdown",
   "metadata": {},
   "source": [
    "The following is commented out because we want don't want to re-do the conversion of term-doc matrix to corpus every time, so we save the variable documents and re-import it "
   ]
  },
  {
   "cell_type": "code",
   "execution_count": 9,
   "metadata": {},
   "outputs": [],
   "source": [
    "# Read bed files \n",
    "#term_doc_matrix, segmentation_df = ReadBedFiles.readFiles2Vector(path_bed_files, universeFile_path, numberofCores, numberofFiles)\n",
    "\n",
    "# convert term-doc matrix to Corpus\n",
    "#documents = ReadBedFiles.convertMat2document(term_doc_matrix, segmentation_df)\n"
   ]
  },
  {
   "cell_type": "code",
   "execution_count": 10,
   "metadata": {},
   "outputs": [],
   "source": [
    "#f = open(\"documents.json\",\"w\")\n",
    "#json1 = json.dumps(documents)\n",
    "#f.write(json1)\n",
    "#f.close()"
   ]
  },
  {
   "cell_type": "code",
   "execution_count": 3,
   "metadata": {},
   "outputs": [],
   "source": [
    "with open('documents.json') as f:\n",
    "    documents = json.load(f)"
   ]
  },
  {
   "cell_type": "code",
   "execution_count": 14,
   "metadata": {},
   "outputs": [
    {
     "name": "stderr",
     "output_type": "stream",
     "text": [
      "\n",
      "KeyboardInterrupt\n",
      "\n"
     ]
    }
   ],
   "source": [
    "%%time\n",
    "\n",
    "# Shuffle documents for training\n",
    "shuffeled_documents = Region2vec.shuffling(documents, shuffle_repeat)\n",
    "\n",
    "# Train word2Vec model\n",
    "model = Region2vec.trainWord2Vec(shuffeled_documents, window, size, min_count )\n",
    "\n",
    "model.save(\"./word2vec_w150.model\")"
   ]
  },
  {
   "cell_type": "code",
   "execution_count": 15,
   "metadata": {},
   "outputs": [
    {
     "name": "stdout",
     "output_type": "stream",
     "text": [
      "48929\n"
     ]
    }
   ],
   "source": [
    "print(len(model.wv.vocab))"
   ]
  },
  {
   "cell_type": "code",
   "execution_count": 16,
   "metadata": {},
   "outputs": [
    {
     "name": "stdout",
     "output_type": "stream",
     "text": [
      "2777\n"
     ]
    }
   ],
   "source": [
    "print(len(term_doc_matrix))"
   ]
  },
  {
   "cell_type": "code",
   "execution_count": null,
   "metadata": {},
   "outputs": [],
   "source": [
    "# pipeline: might help changing parameters\n",
    "# automate the hyperparameter tuning\n",
    "# folder called model and save each model with word2vec, shuffle, etc \n",
    "# need to figure out the data- these are sample files\n",
    "# start w antibody data\n",
    "\n",
    "#note- we changed hyperparameters to be faster/imprerfect jsut to get the model \n",
    "# taken 4 hours to run "
   ]
  }
 ],
 "metadata": {
  "kernelspec": {
   "display_name": "Tensorflow 2.1/Keras Py3.7",
   "language": "python",
   "name": "tensorflow210_py37"
  },
  "language_info": {
   "codemirror_mode": {
    "name": "ipython",
    "version": 3
   },
   "file_extension": ".py",
   "mimetype": "text/x-python",
   "name": "python",
   "nbconvert_exporter": "python",
   "pygments_lexer": "ipython3",
   "version": "3.7.5"
  }
 },
 "nbformat": 4,
 "nbformat_minor": 4
}
